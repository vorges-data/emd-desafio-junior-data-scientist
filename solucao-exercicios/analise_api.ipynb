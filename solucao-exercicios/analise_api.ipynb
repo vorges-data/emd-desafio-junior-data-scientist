{
 "cells": [
  {
   "cell_type": "markdown",
   "metadata": {},
   "source": [
    "### Integração com APIs: Feriados e Tempo"
   ]
  },
  {
   "cell_type": "markdown",
   "metadata": {},
   "source": [
    "#### Imports"
   ]
  },
  {
   "cell_type": "code",
   "execution_count": 30,
   "metadata": {},
   "outputs": [],
   "source": [
    "import requests\n",
    "import pandas as pd"
   ]
  },
  {
   "cell_type": "markdown",
   "metadata": {},
   "source": [
    "#### Endpoint - Status da Resposta"
   ]
  },
  {
   "cell_type": "markdown",
   "metadata": {},
   "source": [
    "##### Public Holiday API"
   ]
  },
  {
   "cell_type": "code",
   "execution_count": 31,
   "metadata": {},
   "outputs": [
    {
     "name": "stdout",
     "output_type": "stream",
     "text": [
      "[{'date': '2024-01-01', 'localName': 'Confraternização Universal', 'name': \"New Year's Day\", 'countryCode': 'BR', 'fixed': False, 'global': True, 'counties': None, 'launchYear': None, 'types': ['Public']}, {'date': '2024-02-12', 'localName': 'Carnaval', 'name': 'Carnival', 'countryCode': 'BR', 'fixed': False, 'global': True, 'counties': None, 'launchYear': None, 'types': ['Bank', 'Optional']}, {'date': '2024-02-13', 'localName': 'Carnaval', 'name': 'Carnival', 'countryCode': 'BR', 'fixed': False, 'global': True, 'counties': None, 'launchYear': None, 'types': ['Bank', 'Optional']}, {'date': '2024-03-29', 'localName': 'Sexta-feira Santa', 'name': 'Good Friday', 'countryCode': 'BR', 'fixed': False, 'global': True, 'counties': None, 'launchYear': None, 'types': ['Public']}, {'date': '2024-03-31', 'localName': 'Domingo de Páscoa', 'name': 'Easter Sunday', 'countryCode': 'BR', 'fixed': False, 'global': True, 'counties': None, 'launchYear': None, 'types': ['Public']}, {'date': '2024-04-21', 'localName': 'Dia de Tiradentes', 'name': 'Tiradentes', 'countryCode': 'BR', 'fixed': False, 'global': True, 'counties': None, 'launchYear': None, 'types': ['Public']}, {'date': '2024-05-01', 'localName': 'Dia do Trabalhador', 'name': 'Labour Day', 'countryCode': 'BR', 'fixed': False, 'global': True, 'counties': None, 'launchYear': None, 'types': ['Public']}, {'date': '2024-05-30', 'localName': 'Corpus Christi', 'name': 'Corpus Christi', 'countryCode': 'BR', 'fixed': False, 'global': True, 'counties': None, 'launchYear': None, 'types': ['Public']}, {'date': '2024-07-09', 'localName': 'Revolução Constitucionalista de 1932', 'name': 'Constitutionalist Revolution of 1932', 'countryCode': 'BR', 'fixed': False, 'global': False, 'counties': ['BR-SP'], 'launchYear': None, 'types': ['Public']}, {'date': '2024-09-07', 'localName': 'Dia da Independência', 'name': 'Independence Day', 'countryCode': 'BR', 'fixed': False, 'global': True, 'counties': None, 'launchYear': None, 'types': ['Public']}, {'date': '2024-10-12', 'localName': 'Nossa Senhora Aparecida', 'name': 'Our Lady of Aparecida', 'countryCode': 'BR', 'fixed': False, 'global': True, 'counties': None, 'launchYear': None, 'types': ['Public']}, {'date': '2024-11-02', 'localName': 'Dia de Finados', 'name': \"All Souls' Day\", 'countryCode': 'BR', 'fixed': False, 'global': True, 'counties': None, 'launchYear': None, 'types': ['Public']}, {'date': '2024-11-15', 'localName': 'Proclamação da República', 'name': 'Republic Proclamation Day', 'countryCode': 'BR', 'fixed': False, 'global': True, 'counties': None, 'launchYear': None, 'types': ['Public']}, {'date': '2024-11-20', 'localName': 'Dia da Consciência Negra', 'name': 'Black Awareness Day', 'countryCode': 'BR', 'fixed': False, 'global': True, 'counties': None, 'launchYear': None, 'types': ['Public']}, {'date': '2024-12-25', 'localName': 'Natal', 'name': 'Christmas Day', 'countryCode': 'BR', 'fixed': False, 'global': True, 'counties': None, 'launchYear': None, 'types': ['Public']}]\n"
     ]
    }
   ],
   "source": [
    "url = \"https://date.nager.at/api/v3/PublicHolidays/2024/BR\"\n",
    "\n",
    "response = requests.get(url)\n",
    "\n",
    "# Verificar se a resposta foi bem-sucedida\n",
    "if response.status_code == 200:\n",
    "    holidays = response.json()\n",
    "    print(holidays)  # Exibe a lista de feriados\n",
    "else:\n",
    "    print(f\"Erro na solicitação: {response.status_code}\")\n",
    "    print(f\"Conteúdo da resposta: {response.text}\")"
   ]
  },
  {
   "cell_type": "markdown",
   "metadata": {},
   "source": [
    "##### Open-Meteo Historical Weather API"
   ]
  },
  {
   "cell_type": "code",
   "execution_count": 32,
   "metadata": {},
   "outputs": [],
   "source": [
    "# URL da API Open-Meteo\n",
    "url_weather = \"https://archive-api.open-meteo.com/v1/archive\"\n",
    "params = {\n",
    "    \"latitude\": -22.901449,  # Latitude do Rio de Janeiro\n",
    "    \"longitude\": -43.178921,  # Longitude do Rio de Janeiro\n",
    "    \"start_date\": \"2024-01-01\",\n",
    "    \"end_date\": \"2024-08-01\",\n",
    "    \"daily\": \"temperature_2m_max,temperature_2m_min,weathercode\",\n",
    "    \"timezone\": \"America/Sao_Paulo\"\n",
    "}\n",
    "\n",
    "# Fazer a requisição à API\n",
    "response_weather = requests.get(url_weather, params=params)\n",
    "\n",
    "# Verificar se a requisição foi bem-sucedida e obter os dados\n",
    "weather_data = response_weather.json()\n"
   ]
  },
  {
   "cell_type": "code",
   "execution_count": 33,
   "metadata": {},
   "outputs": [
    {
     "name": "stdout",
     "output_type": "stream",
     "text": [
      "dict_keys(['latitude', 'longitude', 'generationtime_ms', 'utc_offset_seconds', 'timezone', 'timezone_abbreviation', 'elevation', 'daily_units', 'daily'])\n"
     ]
    }
   ],
   "source": [
    "# Verificar as chaves disponíveis nos dados retornados\n",
    "print(weather_data.keys())"
   ]
  },
  {
   "cell_type": "code",
   "execution_count": 34,
   "metadata": {},
   "outputs": [
    {
     "name": "stdout",
     "output_type": "stream",
     "text": [
      "{'time': ['2024-01-01', '2024-01-02', '2024-01-03', '2024-01-04', '2024-01-05', '2024-01-06', '2024-01-07', '2024-01-08', '2024-01-09', '2024-01-10', '2024-01-11', '2024-01-12', '2024-01-13', '2024-01-14', '2024-01-15', '2024-01-16', '2024-01-17', '2024-01-18', '2024-01-19', '2024-01-20', '2024-01-21', '2024-01-22', '2024-01-23', '2024-01-24', '2024-01-25', '2024-01-26', '2024-01-27', '2024-01-28', '2024-01-29', '2024-01-30', '2024-01-31', '2024-02-01', '2024-02-02', '2024-02-03', '2024-02-04', '2024-02-05', '2024-02-06', '2024-02-07', '2024-02-08', '2024-02-09', '2024-02-10', '2024-02-11', '2024-02-12', '2024-02-13', '2024-02-14', '2024-02-15', '2024-02-16', '2024-02-17', '2024-02-18', '2024-02-19', '2024-02-20', '2024-02-21', '2024-02-22', '2024-02-23', '2024-02-24', '2024-02-25', '2024-02-26', '2024-02-27', '2024-02-28', '2024-02-29', '2024-03-01', '2024-03-02', '2024-03-03', '2024-03-04', '2024-03-05', '2024-03-06', '2024-03-07', '2024-03-08', '2024-03-09', '2024-03-10', '2024-03-11', '2024-03-12', '2024-03-13', '2024-03-14', '2024-03-15', '2024-03-16', '2024-03-17', '2024-03-18', '2024-03-19', '2024-03-20', '2024-03-21', '2024-03-22', '2024-03-23', '2024-03-24', '2024-03-25', '2024-03-26', '2024-03-27', '2024-03-28', '2024-03-29', '2024-03-30', '2024-03-31', '2024-04-01', '2024-04-02', '2024-04-03', '2024-04-04', '2024-04-05', '2024-04-06', '2024-04-07', '2024-04-08', '2024-04-09', '2024-04-10', '2024-04-11', '2024-04-12', '2024-04-13', '2024-04-14', '2024-04-15', '2024-04-16', '2024-04-17', '2024-04-18', '2024-04-19', '2024-04-20', '2024-04-21', '2024-04-22', '2024-04-23', '2024-04-24', '2024-04-25', '2024-04-26', '2024-04-27', '2024-04-28', '2024-04-29', '2024-04-30', '2024-05-01', '2024-05-02', '2024-05-03', '2024-05-04', '2024-05-05', '2024-05-06', '2024-05-07', '2024-05-08', '2024-05-09', '2024-05-10', '2024-05-11', '2024-05-12', '2024-05-13', '2024-05-14', '2024-05-15', '2024-05-16', '2024-05-17', '2024-05-18', '2024-05-19', '2024-05-20', '2024-05-21', '2024-05-22', '2024-05-23', '2024-05-24', '2024-05-25', '2024-05-26', '2024-05-27', '2024-05-28', '2024-05-29', '2024-05-30', '2024-05-31', '2024-06-01', '2024-06-02', '2024-06-03', '2024-06-04', '2024-06-05', '2024-06-06', '2024-06-07', '2024-06-08', '2024-06-09', '2024-06-10', '2024-06-11', '2024-06-12', '2024-06-13', '2024-06-14', '2024-06-15', '2024-06-16', '2024-06-17', '2024-06-18', '2024-06-19', '2024-06-20', '2024-06-21', '2024-06-22', '2024-06-23', '2024-06-24', '2024-06-25', '2024-06-26', '2024-06-27', '2024-06-28', '2024-06-29', '2024-06-30', '2024-07-01', '2024-07-02', '2024-07-03', '2024-07-04', '2024-07-05', '2024-07-06', '2024-07-07', '2024-07-08', '2024-07-09', '2024-07-10', '2024-07-11', '2024-07-12', '2024-07-13', '2024-07-14', '2024-07-15', '2024-07-16', '2024-07-17', '2024-07-18', '2024-07-19', '2024-07-20', '2024-07-21', '2024-07-22', '2024-07-23', '2024-07-24', '2024-07-25', '2024-07-26', '2024-07-27', '2024-07-28', '2024-07-29', '2024-07-30', '2024-07-31', '2024-08-01'], 'temperature_2m_max': [27.9, 29.8, 30.2, 28.8, 28.1, 28.8, 31.0, 34.8, 35.1, 35.2, 37.2, 34.6, 28.4, 27.3, 34.8, 37.1, 38.0, 32.6, 31.3, 34.9, 29.4, 27.7, 25.4, 24.7, 26.7, 25.6, 27.6, 28.7, 29.7, 31.4, 30.5, 29.4, 27.3, 30.6, 31.3, 31.9, 30.3, 31.1, 31.4, 32.5, 33.6, 35.0, 36.6, 37.5, 32.8, 27.8, 28.3, 28.8, 30.4, 30.4, 29.8, 29.8, 32.2, 33.0, 34.7, 31.8, 29.4, 31.6, 34.6, 31.5, 31.4, 29.1, 31.8, 33.8, 35.0, 28.8, 29.3, 29.0, 32.4, 31.9, 28.7, 28.7, 29.8, 31.9, 35.2, 36.7, 38.6, 33.1, 32.6, 35.0, 37.5, 28.7, 26.4, 25.0, 27.6, 26.5, 26.2, 25.2, 29.1, 28.2, 27.5, 28.0, 30.3, 29.0, 30.4, 29.6, 28.3, 27.6, 30.7, 30.3, 30.9, 30.1, 28.9, 31.0, 30.2, 32.1, 32.5, 32.9, 25.8, 25.8, 26.7, 28.4, 30.4, 32.3, 35.0, 28.0, 29.4, 31.2, 35.9, 30.5, 33.2, 34.7, 36.0, 33.0, 32.5, 32.9, 31.4, 33.0, 33.6, 35.2, 29.6, 34.1, 35.2, 36.1, 28.5, 25.4, 29.3, 35.0, 29.9, 28.7, 32.4, 25.4, 29.6, 30.5, 33.2, 26.1, 20.9, 24.0, 30.1, 22.8, 23.5, 22.8, 26.3, 27.5, 29.4, 23.2, 23.7, 27.0, 27.8, 27.7, 28.0, 30.0, 30.4, 28.8, 29.0, 30.0, 30.7, 30.3, 30.3, 30.2, 30.5, 31.0, 29.7, 30.1, 31.5, 31.9, 27.7, 30.3, 25.9, 30.9, 28.3, 21.0, 21.6, 25.3, 28.2, 29.5, 29.8, 24.2, 26.2, 24.3, 23.9, 28.1, 24.7, 24.3, 23.7, 27.4, 24.0, 24.4, 25.0, 25.7, 23.3, 23.8, 24.6, 26.0, 24.3, 26.4, 28.0, 29.8, 29.4, 31.6, 25.9, 21.3, 24.9, 26.7], 'temperature_2m_min': [21.8, 23.0, 23.2, 23.5, 23.2, 23.2, 21.4, 22.7, 25.0, 24.4, 24.5, 25.3, 24.1, 23.4, 23.1, 24.9, 26.7, 26.3, 25.9, 25.3, 23.6, 23.6, 20.0, 19.3, 21.9, 22.6, 22.9, 23.1, 22.5, 22.7, 24.1, 23.1, 23.5, 22.8, 23.9, 23.6, 23.9, 22.7, 23.6, 22.8, 21.9, 23.4, 25.0, 24.8, 25.1, 23.8, 23.0, 23.3, 24.0, 22.9, 23.0, 23.6, 24.0, 25.2, 25.5, 25.1, 24.9, 24.0, 24.9, 25.2, 24.5, 22.8, 19.9, 19.7, 22.5, 24.2, 23.9, 24.3, 23.8, 24.6, 23.8, 22.4, 21.7, 20.8, 22.1, 22.9, 24.4, 25.7, 25.0, 24.6, 25.7, 23.8, 22.5, 22.7, 23.2, 22.9, 22.5, 22.0, 22.3, 23.5, 21.9, 20.9, 20.4, 21.2, 21.7, 21.5, 21.0, 22.0, 21.4, 22.4, 21.7, 21.5, 22.1, 21.2, 20.9, 22.4, 22.7, 22.2, 21.7, 20.3, 17.2, 18.6, 17.1, 19.8, 19.7, 22.8, 22.9, 20.8, 21.8, 21.8, 21.9, 22.0, 22.2, 23.3, 22.7, 19.3, 19.2, 21.2, 20.1, 22.2, 21.7, 21.7, 22.5, 22.2, 22.9, 22.3, 22.0, 21.6, 22.0, 22.2, 21.2, 22.5, 19.1, 19.8, 19.2, 21.0, 19.7, 18.5, 19.8, 20.4, 18.3, 18.0, 16.3, 16.5, 16.1, 19.4, 19.2, 16.6, 17.5, 17.8, 18.1, 16.1, 17.6, 17.0, 15.4, 15.8, 16.0, 17.1, 17.5, 16.0, 17.0, 17.2, 16.3, 16.9, 19.1, 19.9, 21.7, 20.0, 22.4, 19.0, 21.2, 18.4, 18.2, 17.4, 17.3, 18.0, 16.9, 17.3, 17.7, 20.5, 20.0, 18.1, 19.9, 19.8, 20.3, 18.8, 19.8, 18.5, 17.7, 17.2, 15.7, 14.7, 16.6, 13.8, 16.8, 15.0, 15.1, 17.0, 16.5, 16.7, 17.4, 17.9, 17.6, 16.9], 'weathercode': [51, 51, 63, 61, 51, 51, 3, 1, 51, 53, 63, 63, 63, 63, 2, 53, 55, 53, 63, 65, 63, 53, 63, 63, 53, 55, 55, 63, 51, 51, 61, 61, 53, 2, 53, 3, 1, 51, 51, 53, 53, 51, 1, 51, 53, 63, 51, 51, 51, 53, 63, 65, 51, 51, 51, 51, 55, 51, 51, 63, 63, 51, 0, 0, 63, 65, 51, 51, 51, 63, 53, 51, 51, 1, 3, 1, 1, 51, 63, 61, 1, 65, 55, 63, 51, 61, 53, 55, 61, 51, 53, 3, 1, 1, 2, 3, 51, 53, 2, 3, 3, 53, 53, 51, 1, 3, 51, 1, 61, 51, 3, 2, 0, 1, 1, 53, 53, 0, 0, 2, 3, 0, 0, 0, 3, 1, 0, 0, 0, 1, 51, 3, 1, 1, 53, 53, 51, 0, 0, 51, 51, 53, 0, 1, 1, 51, 63, 51, 51, 51, 51, 51, 51, 1, 0, 53, 53, 1, 3, 1, 3, 1, 0, 0, 0, 0, 1, 1, 1, 1, 0, 0, 1, 1, 1, 0, 51, 1, 53, 3, 53, 61, 61, 2, 3, 0, 0, 51, 1, 51, 53, 51, 51, 55, 51, 51, 51, 3, 51, 3, 3, 3, 3, 1, 3, 0, 1, 1, 1, 1, 3, 63, 55, 2]}\n"
     ]
    }
   ],
   "source": [
    "# Visualizar os dados diários para entender a estrutura\n",
    "print(weather_data['daily'])"
   ]
  },
  {
   "cell_type": "markdown",
   "metadata": {},
   "source": [
    "#### 1. Quantos feriados há no Brasil em todo o ano de 2024?"
   ]
  },
  {
   "cell_type": "code",
   "execution_count": 35,
   "metadata": {},
   "outputs": [
    {
     "name": "stdout",
     "output_type": "stream",
     "text": [
      "Número total de feriados em 2024: 15\n"
     ]
    }
   ],
   "source": [
    "url = \"https://date.nager.at/api/v3/PublicHolidays/2024/BR\"\n",
    "response = requests.get(url)\n",
    "\n",
    "if response.status_code == 200:\n",
    "    holidays = response.json()\n",
    "    total_holidays = len(holidays)\n",
    "    print(f\"Número total de feriados em 2024: {total_holidays}\")\n",
    "else:\n",
    "    print(f\"Erro na solicitação: {response.status_code}\")"
   ]
  },
  {
   "cell_type": "markdown",
   "metadata": {},
   "source": [
    "#### 2. Qual mês de 2024 tem o maior número de feriados?"
   ]
  },
  {
   "cell_type": "code",
   "execution_count": 36,
   "metadata": {},
   "outputs": [
    {
     "name": "stdout",
     "output_type": "stream",
     "text": [
      "O mês com o maior número de feriados é 11, com 3 feriados.\n"
     ]
    }
   ],
   "source": [
    "# Converter para um DataFrame\n",
    "df_holidays = pd.DataFrame(holidays)\n",
    "\n",
    "# Extrair o mês dos feriados\n",
    "df_holidays['month'] = pd.to_datetime(df_holidays['date']).dt.month\n",
    "\n",
    "# Contar o número de feriados por mês\n",
    "holidays_per_month = df_holidays['month'].value_counts().sort_index()\n",
    "most_holidays_month = holidays_per_month.idxmax()\n",
    "\n",
    "print(f\"O mês com o maior número de feriados é {most_holidays_month}, com {holidays_per_month[most_holidays_month]} feriados.\")"
   ]
  },
  {
   "cell_type": "markdown",
   "metadata": {},
   "source": [
    "#### 3. Quantos feriados em 2024 caem em dias de semana (segunda a sexta-feira)?"
   ]
  },
  {
   "cell_type": "code",
   "execution_count": 37,
   "metadata": {},
   "outputs": [
    {
     "name": "stdout",
     "output_type": "stream",
     "text": [
      "Número de feriados que caem em dias de semana: 10\n"
     ]
    }
   ],
   "source": [
    "# Filtrar apenas os feriados que caem de segunda a sexta-feira\n",
    "df_holidays['weekday'] = pd.to_datetime(df_holidays['date']).dt.weekday\n",
    "weekdays_holidays = df_holidays[df_holidays['weekday'] < 5]\n",
    "\n",
    "weekday_holidays_count = len(weekdays_holidays)\n",
    "print(f\"Número de feriados que caem em dias de semana: {weekday_holidays_count}\")\n"
   ]
  },
  {
   "cell_type": "markdown",
   "metadata": {},
   "source": [
    "#### 4. Qual foi a temperatura média em cada mês?"
   ]
  },
  {
   "cell_type": "code",
   "execution_count": 38,
   "metadata": {},
   "outputs": [
    {
     "name": "stdout",
     "output_type": "stream",
     "text": [
      "Temperatura média em cada mês:\n",
      "month\n",
      "1    27.104839\n",
      "2    27.722414\n",
      "3    26.891935\n",
      "4    25.650000\n",
      "5    25.583871\n",
      "6    23.236667\n",
      "7    21.674194\n",
      "8    21.800000\n",
      "Name: avg_temp, dtype: float64\n"
     ]
    }
   ],
   "source": [
    "# Converter a resposta para um DataFrame\n",
    "df_weather = pd.DataFrame(weather_data['daily'])\n",
    "df_weather['date'] = pd.to_datetime(df_weather['time'])\n",
    "df_weather['month'] = df_weather['date'].dt.month\n",
    "\n",
    "# Calcular a temperatura média para cada mês\n",
    "df_weather['avg_temp'] = (df_weather['temperature_2m_max'] + df_weather['temperature_2m_min']) / 2\n",
    "monthly_avg_temp = df_weather.groupby('month')['avg_temp'].mean()\n",
    "\n",
    "print(\"Temperatura média em cada mês:\")\n",
    "print(monthly_avg_temp)"
   ]
  },
  {
   "cell_type": "markdown",
   "metadata": {},
   "source": [
    "#### 5. Qual foi o tempo predominante em cada mês nesse período?"
   ]
  },
  {
   "cell_type": "code",
   "execution_count": 39,
   "metadata": {},
   "outputs": [
    {
     "name": "stdout",
     "output_type": "stream",
     "text": [
      "Tempo predominante em cada mês:\n",
      "month\n",
      "1    63\n",
      "2    51\n",
      "3    51\n",
      "4     3\n",
      "5    51\n",
      "6     1\n",
      "7     3\n",
      "8     2\n",
      "Name: weathercode, dtype: int64\n"
     ]
    }
   ],
   "source": [
    "# Converter a resposta para um DataFrame\n",
    "df_weather_codes = pd.DataFrame(weather_data['daily'])\n",
    "df_weather_codes['date'] = pd.to_datetime(df_weather_codes['time'])\n",
    "df_weather_codes['month'] = df_weather_codes['date'].dt.month\n",
    "\n",
    "# Determinar o tempo predominante por mês\n",
    "weather_code_monthly = df_weather_codes.groupby('month')['weathercode'].agg(lambda x: x.value_counts().idxmax())\n",
    "\n",
    "print(\"Tempo predominante em cada mês:\")\n",
    "print(weather_code_monthly)\n"
   ]
  },
  {
   "cell_type": "markdown",
   "metadata": {},
   "source": [
    "1: Céu claro (ensolarado)\n",
    "\n",
    "2: Parcialmente nublado\n",
    "\n",
    "3: Nublado (completamente nublado)\n",
    "\n",
    "51: Chuvisco\n",
    "\n",
    "63: Chuva moderada\n"
   ]
  },
  {
   "cell_type": "markdown",
   "metadata": {},
   "source": [
    "#### 6. Qual foi o tempo e a temperatura média em cada feriado de 01/01/2024 a 01/08/2024?"
   ]
  },
  {
   "cell_type": "code",
   "execution_count": 41,
   "metadata": {},
   "outputs": [
    {
     "name": "stdout",
     "output_type": "stream",
     "text": [
      "        date                                  name  avg_temp  weathercode\n",
      "0 2024-01-01                        New Year's Day     24.85           51\n",
      "1 2024-02-12                              Carnival     30.80            1\n",
      "2 2024-02-13                              Carnival     31.15           51\n",
      "3 2024-03-29                           Good Friday     25.70           61\n",
      "4 2024-03-31                         Easter Sunday     24.70           53\n",
      "5 2024-04-21                            Tiradentes     23.50            2\n",
      "6 2024-05-01                            Labour Day     28.35            0\n",
      "7 2024-05-30                        Corpus Christi     20.90           51\n",
      "8 2024-07-09  Constitutionalist Revolution of 1932     21.95           53\n"
     ]
    }
   ],
   "source": [
    "# Coluna 'date' esteja no formato datetime em ambos os DataFrames\n",
    "df_holidays['date'] = pd.to_datetime(df_holidays['date'])\n",
    "df_weather['date'] = pd.to_datetime(df_weather['time'])\n",
    "\n",
    "# Filtrar feriados dentro do período\n",
    "holidays_within_period = df_holidays[(df_holidays['date'] >= \"2024-01-01\") & (df_holidays['date'] <= \"2024-08-01\")]\n",
    "\n",
    "# Junte os dados de feriados com os dados de clima\n",
    "holidays_weather = pd.merge(holidays_within_period, df_weather, left_on='date', right_on='date', how='left')\n",
    "\n",
    "print(holidays_weather[['date', 'name', 'avg_temp', 'weathercode']])\n"
   ]
  },
  {
   "cell_type": "markdown",
   "metadata": {},
   "source": [
    "#### 7. Considere as seguintes suposições:"
   ]
  },
  {
   "cell_type": "markdown",
   "metadata": {},
   "source": [
    "- O cidadão carioca considera \"frio\" um dia cuja temperatura média é menor que 20ºC;\n",
    "- Um feriado bem aproveitado no Rio de Janeiro é aquele em que se pode ir à praia;\n",
    "- O cidadão carioca só vai à praia quando não está com frio;\n",
    "- O cidadão carioca também só vai à praia em dias com sol, evitando dias totalmente nublados ou chuvosos (considere weather_code para determinar as condições climáticas).\n",
    "\n",
    "\n",
    "Houve algum feriado \"não aproveitável\" em 2024? Se sim, qual(is)?"
   ]
  },
  {
   "cell_type": "code",
   "execution_count": 45,
   "metadata": {},
   "outputs": [
    {
     "name": "stdout",
     "output_type": "stream",
     "text": [
      "Feriados não aproveitáveis:\n",
      "        date                                  name  avg_temp  weathercode\n",
      "0 2024-01-01                        New Year's Day     24.85           51\n",
      "2 2024-02-13                              Carnival     31.15           51\n",
      "3 2024-03-29                           Good Friday     25.70           61\n",
      "4 2024-03-31                         Easter Sunday     24.70           53\n",
      "7 2024-05-30                        Corpus Christi     20.90           51\n",
      "8 2024-07-09  Constitutionalist Revolution of 1932     21.95           53\n"
     ]
    }
   ],
   "source": [
    "# Definindo as condições para um feriado \"não aproveitável\"\n",
    "holidays_weather['non_approvable'] = (\n",
    "    (holidays_weather['avg_temp'] < 20) |  \n",
    "    (holidays_weather['weathercode'].isin([3, 51, 53, 55, 61, 63, 65, 80, 81, 82, 95, 96, 99]))  \n",
    ")\n",
    "\n",
    "# Filtrando os feriados \"não aproveitáveis\"\n",
    "non_approvable_holidays = holidays_weather[holidays_weather['non_approvable']]\n",
    "\n",
    "# Verificando se houve algum feriado \"não aproveitável\"\n",
    "if len(non_approvable_holidays) > 0:\n",
    "    print(\"Feriados não aproveitáveis:\")\n",
    "    print(non_approvable_holidays[['date', 'name', 'avg_temp', 'weathercode']])\n",
    "else:\n",
    "    print(\"Nenhum feriado não aproveitável encontrado.\")\n"
   ]
  },
  {
   "cell_type": "markdown",
   "metadata": {},
   "source": [
    "0\tCéu claro\n",
    "\n",
    "1, 2, 3\tPrincipalmente claro, parcialmente nublado e nublado\n",
    "\n",
    "45, 48\tNévoa e depósito de gelo\n",
    "\n",
    "51, 53, 55\tChuvisco: Intensidade leve, moderada e densa\n",
    "\n",
    "56, 57\tChuvisco congelante: Intensidade leve e densa\n",
    "\n",
    "61, 63, 65\tChuva: Intensidade leve, moderada e forte\n",
    "\n",
    "66, 67\tChuva congelante: Intensidade leve e forte\n",
    "\n",
    "71, 73, 75\tQueda de neve: Intensidade leve, moderada e forte\n",
    "\n",
    "77\tGrãos de neve\n",
    "\n",
    "80, 81, 82\tPancadas de chuva: Intensidade leve, moderada e violenta\n",
    "\n",
    "85, 86\tPancadas de neve: Intensidade leve e forte\n",
    "\n",
    "95\tTrovoada: Intensidade leve ou moderada\n",
    "\n",
    "96, 99\tTrovoada com granizo leve e forte"
   ]
  },
  {
   "cell_type": "markdown",
   "metadata": {},
   "source": [
    "#### 8. Qual foi o feriado \"mais aproveitável\" de 2024"
   ]
  },
  {
   "cell_type": "markdown",
   "metadata": {},
   "source": [
    "Considere o melhor par tempo e temperatura."
   ]
  },
  {
   "cell_type": "code",
   "execution_count": 47,
   "metadata": {},
   "outputs": [
    {
     "name": "stdout",
     "output_type": "stream",
     "text": [
      "O feriado mais aproveitável foi Carnival em 2024-02-12 00:00:00 com temperatura média de 30.8ºC e código de tempo 1.\n"
     ]
    }
   ],
   "source": [
    "# Definir uma pontuação de \"aproveitabilidade\" para cada feriado\n",
    "# Condições favoráveis: alta temperatura e códigos de tempo favoráveis (1 = Céu claro, 2 = Parcialmente nublado)\n",
    "holidays_weather['approvable_score'] = holidays_weather['avg_temp'] * holidays_weather['weathercode'].apply(lambda x: 1 if x in [1, 2] else 0)\n",
    "\n",
    "# Encontrar o feriado com a maior pontuação de \"aproveitabilidade\"\n",
    "best_holiday = holidays_weather.loc[holidays_weather['approvable_score'].idxmax()]\n",
    "\n",
    "# Exibir o feriado mais aproveitável\n",
    "print(f\"O feriado mais aproveitável foi {best_holiday['name']} em {best_holiday['date']} com temperatura média de {best_holiday['avg_temp']}ºC e código de tempo {best_holiday['weathercode']}.\")\n"
   ]
  }
 ],
 "metadata": {
  "kernelspec": {
   "display_name": "emd-desafio-junior-data-scientist-06p6VSO7-py3.10",
   "language": "python",
   "name": "python3"
  },
  "language_info": {
   "codemirror_mode": {
    "name": "ipython",
    "version": 3
   },
   "file_extension": ".py",
   "mimetype": "text/x-python",
   "name": "python",
   "nbconvert_exporter": "python",
   "pygments_lexer": "ipython3",
   "version": "3.10.12"
  }
 },
 "nbformat": 4,
 "nbformat_minor": 2
}
