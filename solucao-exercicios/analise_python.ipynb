{
 "cells": [
  {
   "cell_type": "markdown",
   "metadata": {},
   "source": [
    "### Resolução das questões do arquivo `perguntas_sql.md`"
   ]
  },
  {
   "cell_type": "markdown",
   "metadata": {},
   "source": [
    "#### Imports"
   ]
  },
  {
   "cell_type": "code",
   "execution_count": 26,
   "metadata": {},
   "outputs": [],
   "source": [
    "import pandas as pd\n",
    "import basedosdados as bd"
   ]
  },
  {
   "cell_type": "code",
   "execution_count": 29,
   "metadata": {},
   "outputs": [
    {
     "name": "stderr",
     "output_type": "stream",
     "text": [
      "Downloading: 100%|██████████| 10/10 [00:00<00:00, 16.02rows/s]\n"
     ]
    },
    {
     "data": {
      "text/html": [
       "<div>\n",
       "<style scoped>\n",
       "    .dataframe tbody tr th:only-of-type {\n",
       "        vertical-align: middle;\n",
       "    }\n",
       "\n",
       "    .dataframe tbody tr th {\n",
       "        vertical-align: top;\n",
       "    }\n",
       "\n",
       "    .dataframe thead th {\n",
       "        text-align: right;\n",
       "    }\n",
       "</style>\n",
       "<table border=\"1\" class=\"dataframe\">\n",
       "  <thead>\n",
       "    <tr style=\"text-align: right;\">\n",
       "      <th></th>\n",
       "      <th>id_chamado</th>\n",
       "      <th>id_origem_ocorrencia</th>\n",
       "      <th>data_inicio</th>\n",
       "      <th>data_fim</th>\n",
       "      <th>id_bairro</th>\n",
       "      <th>id_territorialidade</th>\n",
       "      <th>id_logradouro</th>\n",
       "      <th>numero_logradouro</th>\n",
       "      <th>id_unidade_organizacional</th>\n",
       "      <th>nome_unidade_organizacional</th>\n",
       "      <th>...</th>\n",
       "      <th>data_real_diagnostico</th>\n",
       "      <th>tempo_prazo</th>\n",
       "      <th>prazo_unidade</th>\n",
       "      <th>prazo_tipo</th>\n",
       "      <th>dentro_prazo</th>\n",
       "      <th>situacao</th>\n",
       "      <th>tipo_situacao</th>\n",
       "      <th>justificativa_status</th>\n",
       "      <th>reclamacoes</th>\n",
       "      <th>data_particao</th>\n",
       "    </tr>\n",
       "  </thead>\n",
       "  <tbody>\n",
       "    <tr>\n",
       "      <th>0</th>\n",
       "      <td>93725</td>\n",
       "      <td>1</td>\n",
       "      <td>2010-12-28 10:14:58</td>\n",
       "      <td>2011-02-17 10:04:36</td>\n",
       "      <td>128</td>\n",
       "      <td>4</td>\n",
       "      <td>91330</td>\n",
       "      <td>4700</td>\n",
       "      <td>21</td>\n",
       "      <td>CGCC - Coordenadoria Geral de Controle de Conc...</td>\n",
       "      <td>...</td>\n",
       "      <td>2011-02-17 10:04:36</td>\n",
       "      <td>&lt;NA&gt;</td>\n",
       "      <td>D</td>\n",
       "      <td>F</td>\n",
       "      <td>Fora do prazo</td>\n",
       "      <td>Encerrado</td>\n",
       "      <td>Atendido</td>\n",
       "      <td>None</td>\n",
       "      <td>0</td>\n",
       "      <td>2010-12-01</td>\n",
       "    </tr>\n",
       "    <tr>\n",
       "      <th>1</th>\n",
       "      <td>95047</td>\n",
       "      <td>1</td>\n",
       "      <td>2010-12-29 17:03:07</td>\n",
       "      <td>2011-01-07 12:52:45</td>\n",
       "      <td>40</td>\n",
       "      <td>3</td>\n",
       "      <td>67025</td>\n",
       "      <td>280</td>\n",
       "      <td>9</td>\n",
       "      <td>CGC - Coordenadoria Geral de Conservação</td>\n",
       "      <td>...</td>\n",
       "      <td>2011-01-07 23:59:59</td>\n",
       "      <td>&lt;NA&gt;</td>\n",
       "      <td>D</td>\n",
       "      <td>F</td>\n",
       "      <td>No prazo</td>\n",
       "      <td>Encerrado</td>\n",
       "      <td>Atendido</td>\n",
       "      <td>None</td>\n",
       "      <td>0</td>\n",
       "      <td>2010-12-01</td>\n",
       "    </tr>\n",
       "    <tr>\n",
       "      <th>2</th>\n",
       "      <td>82068</td>\n",
       "      <td>1</td>\n",
       "      <td>2010-12-10 11:09:14</td>\n",
       "      <td>2011-01-18 11:47:39</td>\n",
       "      <td>46</td>\n",
       "      <td>3</td>\n",
       "      <td>14795</td>\n",
       "      <td>59</td>\n",
       "      <td>9</td>\n",
       "      <td>CGC - Coordenadoria Geral de Conservação</td>\n",
       "      <td>...</td>\n",
       "      <td>2010-12-10 23:59:59</td>\n",
       "      <td>&lt;NA&gt;</td>\n",
       "      <td>D</td>\n",
       "      <td>F</td>\n",
       "      <td>No prazo</td>\n",
       "      <td>Encerrado</td>\n",
       "      <td>Atendido</td>\n",
       "      <td>None</td>\n",
       "      <td>0</td>\n",
       "      <td>2010-12-01</td>\n",
       "    </tr>\n",
       "    <tr>\n",
       "      <th>3</th>\n",
       "      <td>79495</td>\n",
       "      <td>1</td>\n",
       "      <td>2010-12-07 14:29:08</td>\n",
       "      <td>2011-01-18 11:47:39</td>\n",
       "      <td>49</td>\n",
       "      <td>3</td>\n",
       "      <td>127993</td>\n",
       "      <td>145</td>\n",
       "      <td>9</td>\n",
       "      <td>CGC - Coordenadoria Geral de Conservação</td>\n",
       "      <td>...</td>\n",
       "      <td>2010-12-07 23:59:59</td>\n",
       "      <td>&lt;NA&gt;</td>\n",
       "      <td>D</td>\n",
       "      <td>F</td>\n",
       "      <td>No prazo</td>\n",
       "      <td>Encerrado</td>\n",
       "      <td>Atendido</td>\n",
       "      <td>None</td>\n",
       "      <td>0</td>\n",
       "      <td>2010-12-01</td>\n",
       "    </tr>\n",
       "    <tr>\n",
       "      <th>4</th>\n",
       "      <td>92648</td>\n",
       "      <td>1</td>\n",
       "      <td>2010-12-27 08:51:04</td>\n",
       "      <td>2011-02-04 13:19:53</td>\n",
       "      <td>151</td>\n",
       "      <td>5</td>\n",
       "      <td>136051</td>\n",
       "      <td>&lt;NA&gt;</td>\n",
       "      <td>9</td>\n",
       "      <td>CGC - Coordenadoria Geral de Conservação</td>\n",
       "      <td>...</td>\n",
       "      <td>2011-01-24 23:59:59</td>\n",
       "      <td>&lt;NA&gt;</td>\n",
       "      <td>D</td>\n",
       "      <td>F</td>\n",
       "      <td>No prazo</td>\n",
       "      <td>Encerrado</td>\n",
       "      <td>Atendido</td>\n",
       "      <td>None</td>\n",
       "      <td>0</td>\n",
       "      <td>2010-12-01</td>\n",
       "    </tr>\n",
       "  </tbody>\n",
       "</table>\n",
       "<p>5 rows × 32 columns</p>\n",
       "</div>"
      ],
      "text/plain": [
       "  id_chamado id_origem_ocorrencia         data_inicio            data_fim  \\\n",
       "0      93725                    1 2010-12-28 10:14:58 2011-02-17 10:04:36   \n",
       "1      95047                    1 2010-12-29 17:03:07 2011-01-07 12:52:45   \n",
       "2      82068                    1 2010-12-10 11:09:14 2011-01-18 11:47:39   \n",
       "3      79495                    1 2010-12-07 14:29:08 2011-01-18 11:47:39   \n",
       "4      92648                    1 2010-12-27 08:51:04 2011-02-04 13:19:53   \n",
       "\n",
       "  id_bairro id_territorialidade id_logradouro  numero_logradouro  \\\n",
       "0       128                   4         91330               4700   \n",
       "1        40                   3         67025                280   \n",
       "2        46                   3         14795                 59   \n",
       "3        49                   3        127993                145   \n",
       "4       151                   5        136051               <NA>   \n",
       "\n",
       "  id_unidade_organizacional  \\\n",
       "0                        21   \n",
       "1                         9   \n",
       "2                         9   \n",
       "3                         9   \n",
       "4                         9   \n",
       "\n",
       "                         nome_unidade_organizacional  ...  \\\n",
       "0  CGCC - Coordenadoria Geral de Controle de Conc...  ...   \n",
       "1           CGC - Coordenadoria Geral de Conservação  ...   \n",
       "2           CGC - Coordenadoria Geral de Conservação  ...   \n",
       "3           CGC - Coordenadoria Geral de Conservação  ...   \n",
       "4           CGC - Coordenadoria Geral de Conservação  ...   \n",
       "\n",
       "  data_real_diagnostico tempo_prazo prazo_unidade prazo_tipo   dentro_prazo  \\\n",
       "0   2011-02-17 10:04:36        <NA>             D          F  Fora do prazo   \n",
       "1   2011-01-07 23:59:59        <NA>             D          F       No prazo   \n",
       "2   2010-12-10 23:59:59        <NA>             D          F       No prazo   \n",
       "3   2010-12-07 23:59:59        <NA>             D          F       No prazo   \n",
       "4   2011-01-24 23:59:59        <NA>             D          F       No prazo   \n",
       "\n",
       "    situacao tipo_situacao justificativa_status  reclamacoes  data_particao  \n",
       "0  Encerrado      Atendido                 None            0     2010-12-01  \n",
       "1  Encerrado      Atendido                 None            0     2010-12-01  \n",
       "2  Encerrado      Atendido                 None            0     2010-12-01  \n",
       "3  Encerrado      Atendido                 None            0     2010-12-01  \n",
       "4  Encerrado      Atendido                 None            0     2010-12-01  \n",
       "\n",
       "[5 rows x 32 columns]"
      ]
     },
     "execution_count": 29,
     "metadata": {},
     "output_type": "execute_result"
    }
   ],
   "source": [
    "query = \"SELECT * FROM `datario.adm_central_atendimento_1746.chamado` LIMIT 10\"\n",
    "df = bd.read_sql(query, billing_project_id=\"projeto-prefeitura-rio\")\n",
    "df.head()"
   ]
  },
  {
   "cell_type": "markdown",
   "metadata": {},
   "source": [
    "#### 1. Quantos chamados foram abertos no dia 01/04/2023?"
   ]
  },
  {
   "cell_type": "code",
   "execution_count": null,
   "metadata": {},
   "outputs": [],
   "source": []
  },
  {
   "cell_type": "markdown",
   "metadata": {},
   "source": [
    "#### 2. Qual o tipo de chamado que teve mais teve chamados abertos no dia 01/04/2023?\n"
   ]
  },
  {
   "cell_type": "markdown",
   "metadata": {},
   "source": [
    "#### 3. Quais os nomes dos 3 bairros que mais tiveram chamados abertos nesse dia?\n"
   ]
  },
  {
   "cell_type": "markdown",
   "metadata": {},
   "source": [
    "#### 4. Qual o nome da subprefeitura com mais chamados abertos nesse dia?"
   ]
  },
  {
   "cell_type": "markdown",
   "metadata": {},
   "source": [
    "#### 5. Existe algum chamado aberto nesse dia que não foi associado a um bairro ou subprefeitura na tabela de bairros? Se sim, por que isso acontece?"
   ]
  },
  {
   "cell_type": "markdown",
   "metadata": {},
   "source": [
    "#### 6. Quantos chamados com o subtipo \"Perturbação do sossego\" foram abertos desde 01/01/2022 até 31/12/2023 (incluindo extremidades)?"
   ]
  },
  {
   "cell_type": "markdown",
   "metadata": {},
   "source": [
    "#### 7. Selecione os chamados com esse subtipo que foram abertos durante os eventos contidos na tabela de eventos (Reveillon, Carnaval e Rock in Rio).\n"
   ]
  },
  {
   "cell_type": "markdown",
   "metadata": {},
   "source": [
    "#### 8. Quantos chamados desse subtipo foram abertos em cada evento?\n"
   ]
  },
  {
   "cell_type": "markdown",
   "metadata": {},
   "source": [
    "#### 9. Qual evento teve a maior média diária de chamados abertos desse subtipo?\n"
   ]
  },
  {
   "cell_type": "markdown",
   "metadata": {},
   "source": [
    "#### 10. Compare as médias diárias de chamados abertos desse subtipo durante os eventos específicos (Reveillon, Carnaval e Rock in Rio) e a média diária de chamados abertos desse subtipo considerando todo o período de 01/01/2022 até 31/12/2023."
   ]
  },
  {
   "cell_type": "code",
   "execution_count": null,
   "metadata": {},
   "outputs": [],
   "source": []
  }
 ],
 "metadata": {
  "kernelspec": {
   "display_name": "emd-desafio-junior-data-scientist-06p6VSO7-py3.10",
   "language": "python",
   "name": "python3"
  },
  "language_info": {
   "codemirror_mode": {
    "name": "ipython",
    "version": 3
   },
   "file_extension": ".py",
   "mimetype": "text/x-python",
   "name": "python",
   "nbconvert_exporter": "python",
   "pygments_lexer": "ipython3",
   "version": "3.10.12"
  }
 },
 "nbformat": 4,
 "nbformat_minor": 2
}
