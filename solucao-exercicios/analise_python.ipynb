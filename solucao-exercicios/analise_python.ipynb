{
 "cells": [
  {
   "cell_type": "markdown",
   "metadata": {},
   "source": [
    "### Resolução das questões do arquivo `perguntas_sql.md`"
   ]
  },
  {
   "cell_type": "markdown",
   "metadata": {},
   "source": [
    "#### Imports"
   ]
  },
  {
   "cell_type": "code",
   "execution_count": 1,
   "metadata": {},
   "outputs": [],
   "source": [
    "import pandas as pd\n",
    "import basedosdados as bd"
   ]
  },
  {
   "cell_type": "code",
   "execution_count": 2,
   "metadata": {},
   "outputs": [
    {
     "name": "stderr",
     "output_type": "stream",
     "text": [
      "Downloading: 100%|██████████| 10/10 [00:00<00:00, 31.97rows/s]\n"
     ]
    },
    {
     "data": {
      "text/html": [
       "<div>\n",
       "<style scoped>\n",
       "    .dataframe tbody tr th:only-of-type {\n",
       "        vertical-align: middle;\n",
       "    }\n",
       "\n",
       "    .dataframe tbody tr th {\n",
       "        vertical-align: top;\n",
       "    }\n",
       "\n",
       "    .dataframe thead th {\n",
       "        text-align: right;\n",
       "    }\n",
       "</style>\n",
       "<table border=\"1\" class=\"dataframe\">\n",
       "  <thead>\n",
       "    <tr style=\"text-align: right;\">\n",
       "      <th></th>\n",
       "      <th>id_chamado</th>\n",
       "      <th>id_origem_ocorrencia</th>\n",
       "      <th>data_inicio</th>\n",
       "      <th>data_fim</th>\n",
       "      <th>id_bairro</th>\n",
       "      <th>id_territorialidade</th>\n",
       "      <th>id_logradouro</th>\n",
       "      <th>numero_logradouro</th>\n",
       "      <th>id_unidade_organizacional</th>\n",
       "      <th>nome_unidade_organizacional</th>\n",
       "      <th>...</th>\n",
       "      <th>data_real_diagnostico</th>\n",
       "      <th>tempo_prazo</th>\n",
       "      <th>prazo_unidade</th>\n",
       "      <th>prazo_tipo</th>\n",
       "      <th>dentro_prazo</th>\n",
       "      <th>situacao</th>\n",
       "      <th>tipo_situacao</th>\n",
       "      <th>justificativa_status</th>\n",
       "      <th>reclamacoes</th>\n",
       "      <th>data_particao</th>\n",
       "    </tr>\n",
       "  </thead>\n",
       "  <tbody>\n",
       "    <tr>\n",
       "      <th>0</th>\n",
       "      <td>9383627</td>\n",
       "      <td>1</td>\n",
       "      <td>2017-02-15 18:55:19</td>\n",
       "      <td>2021-11-24 17:23:35</td>\n",
       "      <td>24</td>\n",
       "      <td>2</td>\n",
       "      <td>71084</td>\n",
       "      <td>72</td>\n",
       "      <td>1208</td>\n",
       "      <td>SEGOV</td>\n",
       "      <td>...</td>\n",
       "      <td>2021-11-24 17:23:35</td>\n",
       "      <td>&lt;NA&gt;</td>\n",
       "      <td>D</td>\n",
       "      <td>F</td>\n",
       "      <td>No prazo</td>\n",
       "      <td>Encerrado</td>\n",
       "      <td>Andamento</td>\n",
       "      <td>None</td>\n",
       "      <td>0</td>\n",
       "      <td>2017-02-01</td>\n",
       "    </tr>\n",
       "    <tr>\n",
       "      <th>1</th>\n",
       "      <td>9369509</td>\n",
       "      <td>1</td>\n",
       "      <td>2017-02-13 16:13:52</td>\n",
       "      <td>2018-07-30 16:50:11</td>\n",
       "      <td>20</td>\n",
       "      <td>2</td>\n",
       "      <td>77685</td>\n",
       "      <td>0</td>\n",
       "      <td>979</td>\n",
       "      <td>1ª SGCO/DARB</td>\n",
       "      <td>...</td>\n",
       "      <td>2018-07-30 16:50:11</td>\n",
       "      <td>&lt;NA&gt;</td>\n",
       "      <td>D</td>\n",
       "      <td>F</td>\n",
       "      <td>No prazo</td>\n",
       "      <td>Encerrado</td>\n",
       "      <td>Atendido</td>\n",
       "      <td>None</td>\n",
       "      <td>0</td>\n",
       "      <td>2017-02-01</td>\n",
       "    </tr>\n",
       "    <tr>\n",
       "      <th>2</th>\n",
       "      <td>9376683</td>\n",
       "      <td>1</td>\n",
       "      <td>2017-02-14 17:15:22</td>\n",
       "      <td>2018-09-19 12:49:16</td>\n",
       "      <td>24</td>\n",
       "      <td>2</td>\n",
       "      <td>83949</td>\n",
       "      <td>29</td>\n",
       "      <td>979</td>\n",
       "      <td>1ª SGCO/DARB</td>\n",
       "      <td>...</td>\n",
       "      <td>2018-09-19 12:49:16</td>\n",
       "      <td>&lt;NA&gt;</td>\n",
       "      <td>D</td>\n",
       "      <td>F</td>\n",
       "      <td>No prazo</td>\n",
       "      <td>Encerrado</td>\n",
       "      <td>Atendido</td>\n",
       "      <td>None</td>\n",
       "      <td>0</td>\n",
       "      <td>2017-02-01</td>\n",
       "    </tr>\n",
       "    <tr>\n",
       "      <th>3</th>\n",
       "      <td>9376655</td>\n",
       "      <td>1</td>\n",
       "      <td>2017-02-14 17:10:12</td>\n",
       "      <td>2018-09-19 12:28:25</td>\n",
       "      <td>24</td>\n",
       "      <td>2</td>\n",
       "      <td>77271</td>\n",
       "      <td>90</td>\n",
       "      <td>979</td>\n",
       "      <td>1ª SGCO/DARB</td>\n",
       "      <td>...</td>\n",
       "      <td>2018-09-19 12:28:25</td>\n",
       "      <td>&lt;NA&gt;</td>\n",
       "      <td>D</td>\n",
       "      <td>F</td>\n",
       "      <td>No prazo</td>\n",
       "      <td>Encerrado</td>\n",
       "      <td>Atendido</td>\n",
       "      <td>None</td>\n",
       "      <td>0</td>\n",
       "      <td>2017-02-01</td>\n",
       "    </tr>\n",
       "    <tr>\n",
       "      <th>4</th>\n",
       "      <td>9369524</td>\n",
       "      <td>1</td>\n",
       "      <td>2017-02-13 16:15:42</td>\n",
       "      <td>2018-07-30 16:43:41</td>\n",
       "      <td>20</td>\n",
       "      <td>2</td>\n",
       "      <td>112375</td>\n",
       "      <td>&lt;NA&gt;</td>\n",
       "      <td>979</td>\n",
       "      <td>1ª SGCO/DARB</td>\n",
       "      <td>...</td>\n",
       "      <td>2018-07-30 16:43:41</td>\n",
       "      <td>&lt;NA&gt;</td>\n",
       "      <td>D</td>\n",
       "      <td>F</td>\n",
       "      <td>No prazo</td>\n",
       "      <td>Encerrado</td>\n",
       "      <td>Atendido</td>\n",
       "      <td>None</td>\n",
       "      <td>0</td>\n",
       "      <td>2017-02-01</td>\n",
       "    </tr>\n",
       "  </tbody>\n",
       "</table>\n",
       "<p>5 rows × 32 columns</p>\n",
       "</div>"
      ],
      "text/plain": [
       "  id_chamado id_origem_ocorrencia         data_inicio            data_fim  \\\n",
       "0    9383627                    1 2017-02-15 18:55:19 2021-11-24 17:23:35   \n",
       "1    9369509                    1 2017-02-13 16:13:52 2018-07-30 16:50:11   \n",
       "2    9376683                    1 2017-02-14 17:15:22 2018-09-19 12:49:16   \n",
       "3    9376655                    1 2017-02-14 17:10:12 2018-09-19 12:28:25   \n",
       "4    9369524                    1 2017-02-13 16:15:42 2018-07-30 16:43:41   \n",
       "\n",
       "  id_bairro id_territorialidade id_logradouro  numero_logradouro  \\\n",
       "0        24                   2         71084                 72   \n",
       "1        20                   2         77685                  0   \n",
       "2        24                   2         83949                 29   \n",
       "3        24                   2         77271                 90   \n",
       "4        20                   2        112375               <NA>   \n",
       "\n",
       "  id_unidade_organizacional nome_unidade_organizacional  ...  \\\n",
       "0                      1208                       SEGOV  ...   \n",
       "1                       979                1ª SGCO/DARB  ...   \n",
       "2                       979                1ª SGCO/DARB  ...   \n",
       "3                       979                1ª SGCO/DARB  ...   \n",
       "4                       979                1ª SGCO/DARB  ...   \n",
       "\n",
       "  data_real_diagnostico tempo_prazo prazo_unidade prazo_tipo dentro_prazo  \\\n",
       "0   2021-11-24 17:23:35        <NA>             D          F     No prazo   \n",
       "1   2018-07-30 16:50:11        <NA>             D          F     No prazo   \n",
       "2   2018-09-19 12:49:16        <NA>             D          F     No prazo   \n",
       "3   2018-09-19 12:28:25        <NA>             D          F     No prazo   \n",
       "4   2018-07-30 16:43:41        <NA>             D          F     No prazo   \n",
       "\n",
       "    situacao tipo_situacao justificativa_status  reclamacoes  data_particao  \n",
       "0  Encerrado     Andamento                 None            0     2017-02-01  \n",
       "1  Encerrado      Atendido                 None            0     2017-02-01  \n",
       "2  Encerrado      Atendido                 None            0     2017-02-01  \n",
       "3  Encerrado      Atendido                 None            0     2017-02-01  \n",
       "4  Encerrado      Atendido                 None            0     2017-02-01  \n",
       "\n",
       "[5 rows x 32 columns]"
      ]
     },
     "execution_count": 2,
     "metadata": {},
     "output_type": "execute_result"
    }
   ],
   "source": [
    "query = \"SELECT * FROM `datario.adm_central_atendimento_1746.chamado` LIMIT 10\"\n",
    "df = bd.read_sql(query, billing_project_id=\"projeto-prefeitura-rio\")\n",
    "df.head()"
   ]
  },
  {
   "cell_type": "markdown",
   "metadata": {},
   "source": [
    "#### 1. Quantos chamados foram abertos no dia 01/04/2023?"
   ]
  },
  {
   "cell_type": "code",
   "execution_count": 3,
   "metadata": {},
   "outputs": [
    {
     "name": "stderr",
     "output_type": "stream",
     "text": [
      "Downloading: 100%|██████████| 1/1 [00:00<00:00,  3.27rows/s]"
     ]
    },
    {
     "name": "stdout",
     "output_type": "stream",
     "text": [
      "   total_chamados\n",
      "0            1756\n"
     ]
    },
    {
     "name": "stderr",
     "output_type": "stream",
     "text": [
      "\n"
     ]
    }
   ],
   "source": [
    "query = \"\"\"\n",
    "SELECT COUNT(*) AS total_chamados \n",
    "FROM `datario.adm_central_atendimento_1746.chamado` \n",
    "WHERE DATE(data_inicio) = '2023-04-01';\n",
    "\"\"\"\n",
    "\n",
    "\n",
    "df = bd.read_sql(query, billing_project_id=\"projeto-prefeitura-rio\")\n",
    "\n",
    "print(df)"
   ]
  },
  {
   "cell_type": "markdown",
   "metadata": {},
   "source": [
    "#### 2. Qual o tipo de chamado que teve mais teve chamados abertos no dia 01/04/2023?\n"
   ]
  },
  {
   "cell_type": "code",
   "execution_count": 4,
   "metadata": {},
   "outputs": [
    {
     "name": "stderr",
     "output_type": "stream",
     "text": [
      "Downloading: 100%|██████████| 1/1 [00:00<00:00,  3.14rows/s]"
     ]
    },
    {
     "name": "stdout",
     "output_type": "stream",
     "text": [
      "  tipo_situacao  total_chamados\n",
      "0      Atendido            1015\n"
     ]
    },
    {
     "name": "stderr",
     "output_type": "stream",
     "text": [
      "\n"
     ]
    }
   ],
   "source": [
    "query = \"\"\"\n",
    "SELECT tipo_situacao, COUNT(*) AS total_chamados\n",
    "FROM `datario.adm_central_atendimento_1746.chamado` \n",
    "WHERE date(data_inicio) = '2023-04-01'\n",
    "GROUP BY tipo_situacao\n",
    "ORDER BY total_chamados DESC\n",
    "LIMIT 1;\n",
    "\"\"\"\n",
    "\n",
    "\n",
    "df = bd.read_sql(query, billing_project_id=\"projeto-prefeitura-rio\")\n",
    "\n",
    "print(df)"
   ]
  },
  {
   "cell_type": "markdown",
   "metadata": {},
   "source": [
    "#### 3. Quais os nomes dos 3 bairros que mais tiveram chamados abertos nesse dia?\n"
   ]
  },
  {
   "cell_type": "code",
   "execution_count": 5,
   "metadata": {},
   "outputs": [
    {
     "name": "stderr",
     "output_type": "stream",
     "text": [
      "Downloading: 100%|██████████| 3/3 [00:00<00:00,  8.67rows/s]"
     ]
    },
    {
     "name": "stdout",
     "output_type": "stream",
     "text": [
      "            bairro  total_chamados\n",
      "0     Campo Grande             113\n",
      "1           Tijuca              89\n",
      "2  Barra da Tijuca              59\n"
     ]
    },
    {
     "name": "stderr",
     "output_type": "stream",
     "text": [
      "\n"
     ]
    }
   ],
   "source": [
    "query = \"\"\"\n",
    "SELECT \n",
    "  b.nome AS bairro, \n",
    "  COUNT(id_chamado) AS total_chamados\n",
    "FROM `datario.adm_central_atendimento_1746.chamado` c\n",
    "JOIN `datario.dados_mestres.bairro` b ON c.id_bairro = b.id_bairro\n",
    "WHERE DATE(c.data_inicio) = '2023-04-01'\n",
    "GROUP BY b.nome\n",
    "ORDER BY total_chamados DESC\n",
    "LIMIT 03;\n",
    "\"\"\"\n",
    "\n",
    "\n",
    "df = bd.read_sql(query, billing_project_id=\"projeto-prefeitura-rio\")\n",
    "\n",
    "print(df)"
   ]
  },
  {
   "cell_type": "markdown",
   "metadata": {},
   "source": [
    "#### 4. Qual o nome da subprefeitura com mais chamados abertos nesse dia?"
   ]
  },
  {
   "cell_type": "code",
   "execution_count": 6,
   "metadata": {},
   "outputs": [
    {
     "name": "stderr",
     "output_type": "stream",
     "text": [
      "Downloading: 100%|██████████| 1/1 [00:00<00:00,  3.49rows/s]"
     ]
    },
    {
     "name": "stdout",
     "output_type": "stream",
     "text": [
      "  subprefeitura  total_chamados\n",
      "0    Zona Norte             510\n"
     ]
    },
    {
     "name": "stderr",
     "output_type": "stream",
     "text": [
      "\n"
     ]
    }
   ],
   "source": [
    "query = \"\"\"\n",
    "SELECT \n",
    "  b.subprefeitura,\n",
    "  COUNT(c.id_chamado) AS total_chamados\n",
    "FROM `datario.adm_central_atendimento_1746.chamado` c\n",
    "JOIN `datario.dados_mestres.bairro` b ON c.id_bairro = b.id_bairro\n",
    "WHERE DATE(data_inicio) = '2023-04-01'\n",
    "GROUP BY b.subprefeitura\n",
    "ORDER BY total_chamados DESC\n",
    "LIMIT 01;\n",
    "\"\"\"\n",
    "\n",
    "\n",
    "df = bd.read_sql(query, billing_project_id=\"projeto-prefeitura-rio\")\n",
    "\n",
    "print(df)"
   ]
  },
  {
   "cell_type": "markdown",
   "metadata": {},
   "source": [
    "#### 5. Existe algum chamado aberto nesse dia que não foi associado a um bairro ou subprefeitura na tabela de bairros? Se sim, por que isso acontece?"
   ]
  },
  {
   "cell_type": "code",
   "execution_count": 7,
   "metadata": {},
   "outputs": [
    {
     "name": "stderr",
     "output_type": "stream",
     "text": [
      "Downloading: 100%|██████████| 1/1 [00:00<00:00,  3.46rows/s]"
     ]
    },
    {
     "name": "stdout",
     "output_type": "stream",
     "text": [
      "   chamados_sem_associacao\n",
      "0                       73\n"
     ]
    },
    {
     "name": "stderr",
     "output_type": "stream",
     "text": [
      "\n"
     ]
    }
   ],
   "source": [
    "query = \"\"\"\n",
    "SELECT\n",
    "    COUNT(c.id_chamado) AS chamados_sem_associacao\n",
    "FROM `datario.adm_central_atendimento_1746.chamado` c\n",
    "LEFT JOIN `datario.dados_mestres.bairro` b ON c.id_bairro = b.id_bairro\n",
    "WHERE DATE(data_inicio) = '2023-04-01'\n",
    "AND (b.id_bairro IS NULL OR b.subprefeitura IS NULL);\n",
    "\"\"\"\n",
    "\n",
    "\n",
    "df = bd.read_sql(query, billing_project_id=\"projeto-prefeitura-rio\")\n",
    "\n",
    "print(df)"
   ]
  },
  {
   "cell_type": "code",
   "execution_count": 8,
   "metadata": {},
   "outputs": [
    {
     "name": "stderr",
     "output_type": "stream",
     "text": [
      "Downloading: 100%|██████████| 73/73 [00:00<00:00, 248.76rows/s]"
     ]
    },
    {
     "name": "stdout",
     "output_type": "stream",
     "text": [
      "   id_chamado id_bairro  nome subprefeitura\n",
      "0    18517061      None  None          None\n",
      "1    18517502      None  None          None\n",
      "2    18517263      None  None          None\n",
      "3    18517485      None  None          None\n",
      "4    18517022      None  None          None\n",
      "..        ...       ...   ...           ...\n",
      "68   18516523      None  None          None\n",
      "69   18517483      None  None          None\n",
      "70   18518366      None  None          None\n",
      "71   18517314      None  None          None\n",
      "72   18516414      None  None          None\n",
      "\n",
      "[73 rows x 4 columns]\n"
     ]
    },
    {
     "name": "stderr",
     "output_type": "stream",
     "text": [
      "\n"
     ]
    }
   ],
   "source": [
    "query = \"\"\"\n",
    "SELECT\n",
    "    c.id_chamado,\n",
    "    c.id_bairro,\n",
    "    b.nome,\n",
    "    b.subprefeitura\n",
    "FROM `datario.adm_central_atendimento_1746.chamado` c\n",
    "LEFT JOIN `datario.dados_mestres.bairro` b ON c.id_bairro = b.id_bairro\n",
    "WHERE DATE(data_inicio) = '2023-04-01'\n",
    "AND (b.id_bairro IS NULL OR b.subprefeitura IS NULL);\n",
    "\"\"\"\n",
    "\n",
    "\n",
    "df = bd.read_sql(query, billing_project_id=\"projeto-prefeitura-rio\")\n",
    "\n",
    "print(df)"
   ]
  },
  {
   "cell_type": "markdown",
   "metadata": {},
   "source": [
    "#### 6. Quantos chamados com o subtipo \"Perturbação do sossego\" foram abertos desde 01/01/2022 até 31/12/2023 (incluindo extremidades)?"
   ]
  },
  {
   "cell_type": "code",
   "execution_count": 9,
   "metadata": {},
   "outputs": [
    {
     "name": "stderr",
     "output_type": "stream",
     "text": [
      "Downloading: 100%|██████████| 1/1 [00:00<00:00,  3.26rows/s]"
     ]
    },
    {
     "name": "stdout",
     "output_type": "stream",
     "text": [
      "   total_chamados\n",
      "0           42830\n"
     ]
    },
    {
     "name": "stderr",
     "output_type": "stream",
     "text": [
      "\n"
     ]
    }
   ],
   "source": [
    "query = \"\"\"\n",
    "SELECT\n",
    "   COUNT(id_chamado) AS total_chamados\n",
    "FROM `datario.adm_central_atendimento_1746.chamado`\n",
    "WHERE subtipo = 'Perturbação do sossego'\n",
    "AND DATE(data_inicio) BETWEEN '2022-01-01' AND '2023-12-31';\n",
    "\"\"\"\n",
    "\n",
    "\n",
    "df = bd.read_sql(query, billing_project_id=\"projeto-prefeitura-rio\")\n",
    "\n",
    "print(df)"
   ]
  },
  {
   "cell_type": "markdown",
   "metadata": {},
   "source": [
    "#### 7. Selecione os chamados com esse subtipo que foram abertos durante os eventos contidos na tabela de eventos (Reveillon, Carnaval e Rock in Rio).\n"
   ]
  },
  {
   "cell_type": "code",
   "execution_count": 10,
   "metadata": {},
   "outputs": [
    {
     "name": "stderr",
     "output_type": "stream",
     "text": [
      "Downloading: 100%|██████████| 1214/1214 [00:00<00:00, 1422.32rows/s]"
     ]
    },
    {
     "name": "stdout",
     "output_type": "stream",
     "text": [
      "     id_chamado id_origem_ocorrencia         data_inicio            data_fim  \\\n",
      "0      17661698                   11 2022-09-02 22:40:02 2022-09-09 09:12:54   \n",
      "1      17682627                   11 2022-09-10 00:55:05 2022-09-15 05:16:25   \n",
      "2      17664662                   13 2022-09-04 22:26:55 2022-09-04 23:08:19   \n",
      "3      17674558                    1 2022-09-08 00:07:31 2022-09-08 05:47:39   \n",
      "4      17675616                   22 2022-09-08 10:41:03 2022-09-15 17:23:00   \n",
      "...         ...                  ...                 ...                 ...   \n",
      "1209   18080238                   11 2023-01-01 20:01:27 2023-01-11 08:26:36   \n",
      "1210   18078387                    1 2022-12-30 23:22:36 2022-12-31 06:14:05   \n",
      "1211   18077790                    1 2022-12-30 17:00:19 2023-01-10 09:37:50   \n",
      "1212   18075893                   11 2022-12-30 00:13:57 2023-01-10 09:22:16   \n",
      "1213   18079154                   11 2022-12-31 14:03:28 2023-01-10 10:17:52   \n",
      "\n",
      "     id_bairro id_territorialidade id_logradouro  numero_logradouro  \\\n",
      "0           26                   2         69591                 78   \n",
      "1           76                   3         10645                453   \n",
      "2           64                   3         81034                232   \n",
      "3           69                   3         16410                230   \n",
      "4           24                   2         86090                155   \n",
      "...        ...                 ...           ...                ...   \n",
      "1209       128                   4        198499                855   \n",
      "1210        52                   3         69815                 94   \n",
      "1211        25                   2         82479               <NA>   \n",
      "1212        20                   2         65748                 51   \n",
      "1213        36                   2         70037                110   \n",
      "\n",
      "     id_unidade_organizacional                  nome_unidade_organizacional  \\\n",
      "0                           70  GM-RIO - Guarda Municipal do Rio de Janeiro   \n",
      "1                           70  GM-RIO - Guarda Municipal do Rio de Janeiro   \n",
      "2                           70  GM-RIO - Guarda Municipal do Rio de Janeiro   \n",
      "3                           70  GM-RIO - Guarda Municipal do Rio de Janeiro   \n",
      "4                           70  GM-RIO - Guarda Municipal do Rio de Janeiro   \n",
      "...                        ...                                          ...   \n",
      "1209                        70  GM-RIO - Guarda Municipal do Rio de Janeiro   \n",
      "1210                        70  GM-RIO - Guarda Municipal do Rio de Janeiro   \n",
      "1211                        70  GM-RIO - Guarda Municipal do Rio de Janeiro   \n",
      "1212                        70  GM-RIO - Guarda Municipal do Rio de Janeiro   \n",
      "1213                        70  GM-RIO - Guarda Municipal do Rio de Janeiro   \n",
      "\n",
      "      ... data_real_diagnostico tempo_prazo prazo_unidade prazo_tipo  \\\n",
      "0     ...                   NaT        <NA>             D          F   \n",
      "1     ...                   NaT        <NA>             D          F   \n",
      "2     ...                   NaT        <NA>             D          F   \n",
      "3     ...                   NaT        <NA>             D          F   \n",
      "4     ...                   NaT        <NA>             D          F   \n",
      "...   ...                   ...         ...           ...        ...   \n",
      "1209  ...                   NaT        <NA>             D          F   \n",
      "1210  ...                   NaT        <NA>             D          F   \n",
      "1211  ...                   NaT        <NA>             D          F   \n",
      "1212  ...                   NaT        <NA>             D          F   \n",
      "1213  ...                   NaT        <NA>             D          F   \n",
      "\n",
      "       dentro_prazo   situacao   tipo_situacao justificativa_status  \\\n",
      "0          No prazo  Encerrado    Não atendido                 None   \n",
      "1          No prazo  Encerrado    Não atendido                 None   \n",
      "2          No prazo  Encerrado    Não atendido                 None   \n",
      "3          No prazo  Encerrado    Não atendido                 None   \n",
      "4     Fora do prazo  Encerrado    Não atendido                 None   \n",
      "...             ...        ...             ...                  ...   \n",
      "1209  Fora do prazo  Encerrado    Não atendido                 None   \n",
      "1210       No prazo  Encerrado  Não constatado                 None   \n",
      "1211  Fora do prazo  Encerrado    Não atendido                 None   \n",
      "1212  Fora do prazo  Encerrado    Não atendido                 None   \n",
      "1213  Fora do prazo  Encerrado    Não atendido                 None   \n",
      "\n",
      "      reclamacoes  data_particao  \n",
      "0               0     2022-09-01  \n",
      "1               0     2022-09-01  \n",
      "2               1     2022-09-01  \n",
      "3               0     2022-09-01  \n",
      "4               0     2022-09-01  \n",
      "...           ...            ...  \n",
      "1209            0     2023-01-01  \n",
      "1210            1     2022-12-01  \n",
      "1211            1     2022-12-01  \n",
      "1212            1     2022-12-01  \n",
      "1213            0     2022-12-01  \n",
      "\n",
      "[1214 rows x 32 columns]\n"
     ]
    },
    {
     "name": "stderr",
     "output_type": "stream",
     "text": [
      "\n"
     ]
    }
   ],
   "source": [
    "query = \"\"\"\n",
    "SELECT\n",
    "  c.*\n",
    "FROM `datario.adm_central_atendimento_1746.chamado` c\n",
    "JOIN `datario.turismo_fluxo_visitantes.rede_hoteleira_ocupacao_eventos` o \n",
    "  ON DATE(c.data_inicio) BETWEEN DATE(o.data_inicial) AND DATE(o.data_final)\n",
    "WHERE subtipo = 'Perturbação do sossego';\n",
    "\"\"\"\n",
    "\n",
    "\n",
    "df = bd.read_sql(query, billing_project_id=\"projeto-prefeitura-rio\")\n",
    "\n",
    "print(df)"
   ]
  },
  {
   "cell_type": "markdown",
   "metadata": {},
   "source": [
    "- Como a tabela de Eventos só possui esses três eventos não preciso especificar na query, mas caso houvesse outros eventos eu adicionaria este filtro.\n",
    "- Join entre as tabelas para considerar qualquer chamado que ocorreu durante o evento (independente de ser início, no meio ou no final do evento)"
   ]
  },
  {
   "cell_type": "markdown",
   "metadata": {},
   "source": [
    "#### 8. Quantos chamados desse subtipo foram abertos em cada evento?\n"
   ]
  },
  {
   "cell_type": "code",
   "execution_count": 11,
   "metadata": {},
   "outputs": [
    {
     "name": "stderr",
     "output_type": "stream",
     "text": [
      "Downloading: 100%|██████████| 3/3 [00:00<00:00, 10.48rows/s]"
     ]
    },
    {
     "name": "stdout",
     "output_type": "stream",
     "text": [
      "        evento  total_chamados\n",
      "0  Rock in Rio             834\n",
      "1     Carnaval             241\n",
      "2    Reveillon             139\n"
     ]
    },
    {
     "name": "stderr",
     "output_type": "stream",
     "text": [
      "\n"
     ]
    }
   ],
   "source": [
    "query = \"\"\"\n",
    "SELECT\n",
    "  o.evento,\n",
    "  COUNT(c.id_chamado) AS total_chamados\n",
    "FROM `datario.adm_central_atendimento_1746.chamado` c\n",
    "JOIN `datario.turismo_fluxo_visitantes.rede_hoteleira_ocupacao_eventos` o \n",
    "  ON DATE(c.data_inicio) BETWEEN DATE(o.data_inicial) AND DATE(o.data_final)\n",
    "WHERE subtipo = 'Perturbação do sossego'\n",
    "GROUP BY o.evento\n",
    "ORDER BY total_chamados DESC;\n",
    "\"\"\"\n",
    "\n",
    "\n",
    "df = bd.read_sql(query, billing_project_id=\"projeto-prefeitura-rio\")\n",
    "\n",
    "print(df)"
   ]
  },
  {
   "cell_type": "markdown",
   "metadata": {},
   "source": [
    "- Como a tabela de Eventos só possui esses três eventos não preciso especificar na query, mas caso houvesse outros eventos eu adicionaria este filtro.\n",
    "- Join entre as tabelas para considerar qualquer chamado que ocorreu durante o evento (independente de ser início, no meio ou no final do evento)"
   ]
  },
  {
   "cell_type": "markdown",
   "metadata": {},
   "source": [
    "#### 9. Qual evento teve a maior média diária de chamados abertos desse subtipo?\n"
   ]
  },
  {
   "cell_type": "code",
   "execution_count": 12,
   "metadata": {},
   "outputs": [
    {
     "name": "stderr",
     "output_type": "stream",
     "text": [
      "Downloading: 100%|██████████| 1/1 [00:00<00:00,  2.37rows/s]"
     ]
    },
    {
     "name": "stdout",
     "output_type": "stream",
     "text": [
      "        evento  media_diaria\n",
      "0  Rock in Rio        119.14\n"
     ]
    },
    {
     "name": "stderr",
     "output_type": "stream",
     "text": [
      "\n"
     ]
    }
   ],
   "source": [
    "query = \"\"\"\n",
    "WITH chamados_por_dia AS (\n",
    "  SELECT \n",
    "    o.evento AS evento, \n",
    "    DATE(c.data_inicio) AS dia, \n",
    "    COUNT(c.id_chamado) AS total_chamados\n",
    "  FROM `datario.adm_central_atendimento_1746.chamado` c\n",
    "  JOIN `datario.turismo_fluxo_visitantes.rede_hoteleira_ocupacao_eventos` o \n",
    "    ON DATE(c.data_inicio) BETWEEN DATE(o.data_inicial) AND DATE(o.data_final)\n",
    "  WHERE c.subtipo = 'Perturbação do sossego'\n",
    "  GROUP BY o.evento, DATE(c.data_inicio)\n",
    "  )\n",
    "\n",
    "SELECT \n",
    "  evento,\n",
    "  ROUND(AVG(total_chamados), 2) AS media_diaria\n",
    "FROM chamados_por_dia\n",
    "GROUP BY evento\n",
    "ORDER BY media_diaria DESC\n",
    "LIMIT 1;\n",
    "\n",
    "\"\"\"\n",
    "\n",
    "\n",
    "df = bd.read_sql(query, billing_project_id=\"projeto-prefeitura-rio\")\n",
    "\n",
    "print(df)\n"
   ]
  },
  {
   "cell_type": "markdown",
   "metadata": {},
   "source": [
    "#### 10. Compare as médias diárias de chamados abertos desse subtipo durante os eventos específicos (Reveillon, Carnaval e Rock in Rio) e a média diária de chamados abertos desse subtipo considerando todo o período de 01/01/2022 até 31/12/2023."
   ]
  },
  {
   "cell_type": "code",
   "execution_count": 13,
   "metadata": {},
   "outputs": [
    {
     "name": "stderr",
     "output_type": "stream",
     "text": [
      "Downloading: 100%|██████████| 2/2 [00:00<00:00,  6.52rows/s]"
     ]
    },
    {
     "name": "stdout",
     "output_type": "stream",
     "text": [
      "                  descricao  media_diaria_evento\n",
      "0    Média geral do período                61.98\n",
      "1  Média durante os eventos                86.71\n"
     ]
    },
    {
     "name": "stderr",
     "output_type": "stream",
     "text": [
      "\n"
     ]
    }
   ],
   "source": [
    "query = \"\"\"\n",
    "WITH media_chamados_evento AS (\n",
    "  SELECT \n",
    "    o.evento AS evento, \n",
    "    DATE(c.data_inicio) AS dia, \n",
    "    COUNT(c.id_chamado) AS total_chamados\n",
    "  FROM `datario.adm_central_atendimento_1746.chamado` c\n",
    "  JOIN `datario.turismo_fluxo_visitantes.rede_hoteleira_ocupacao_eventos` o \n",
    "    ON DATE(c.data_inicio) BETWEEN DATE(o.data_inicial) AND DATE(o.data_final)\n",
    "  WHERE c.subtipo = 'Perturbação do sossego'\n",
    "  GROUP BY o.evento, DATE(c.data_inicio)\n",
    "  ),\n",
    "\n",
    "media_chamados_periodo AS (\n",
    "  SELECT \n",
    "    DATE(c.data_inicio) AS dia, \n",
    "    COUNT(c.id_chamado) AS total_chamados\n",
    "  FROM `datario.adm_central_atendimento_1746.chamado` c\n",
    "  WHERE c.subtipo = 'Perturbação do sossego'\n",
    "  AND DATE(c.data_inicio) BETWEEN '2022-01-01' AND '2023-12-31'\n",
    "  GROUP BY DATE(c.data_inicio)\n",
    ")\n",
    "\n",
    "SELECT \n",
    "  'Média durante os eventos' AS descricao,\n",
    "  ROUND(AVG(mce.total_chamados), 2) AS media_diaria_evento\n",
    "FROM media_chamados_evento mce\n",
    "\n",
    "UNION ALL\n",
    "\n",
    "SELECT \n",
    "  'Média geral do período' AS descricao,\n",
    "  ROUND(AVG(mcp.total_chamados), 2) AS media_diaria_total\n",
    "FROM media_chamados_periodo mcp;\n",
    "\n",
    "\n",
    "\"\"\"\n",
    "\n",
    "\n",
    "df = bd.read_sql(query, billing_project_id=\"projeto-prefeitura-rio\")\n",
    "\n",
    "print(df)\n"
   ]
  }
 ],
 "metadata": {
  "kernelspec": {
   "display_name": "emd-desafio-junior-data-scientist-06p6VSO7-py3.10",
   "language": "python",
   "name": "python3"
  },
  "language_info": {
   "codemirror_mode": {
    "name": "ipython",
    "version": 3
   },
   "file_extension": ".py",
   "mimetype": "text/x-python",
   "name": "python",
   "nbconvert_exporter": "python",
   "pygments_lexer": "ipython3",
   "version": "3.10.12"
  }
 },
 "nbformat": 4,
 "nbformat_minor": 2
}
